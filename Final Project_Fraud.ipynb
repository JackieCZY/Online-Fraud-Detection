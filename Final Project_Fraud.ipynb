{
 "cells": [
  {
   "cell_type": "markdown",
   "metadata": {},
   "source": [
    "# Group Project\n",
    "### Authors: Zhiyi Chen, Qiaona Wan, Tony Jianqi Yu, Yunong Zhang, Victoria Zhao"
   ]
  },
  {
   "cell_type": "markdown",
   "metadata": {},
   "source": [
    "## Data Description\n",
    "\n",
    "The dataset was retrieved from Kaggle, and this data contains several predictors including the number of steps in making the transaction, the amount of money being transferred, the type of transaction, etc, and these variables are used to predict whether the transaction is a fraud. Our goal is to find which variables are significant in detecting a fraud transaction, and we are interested in whether a fraud transaction can be predicted using machine learning models.\n",
    "\n",
    "The target variable used in the following models will be \"isFraud\", which is a binary categorical variable with 0 as no Fraud and 1 as Fraud. The explanatory variables used in the models will be \"step\", \"type\", \"amount\", \"oldbalanceOrg\", \"newbalanceOrig\", \"oldbalanceDest\", \"newbalanceDest\", \"isFlaggedFraud\", and varianles \"type\" and \"isFlaggedFraud\" are categorical variables, while the rest are numeric variables.\n",
    "\n",
    "\"oldbalanceOrg\" and \"newbalanceOrig\" are the senders' balances before and after a transaction, and \"oldbalanceDest\" and \"newbalanceDest\" are the receivers' balances before and after a transaction. \"step\" is the number of steps/procedures before the transaction is made. \"amount\" is the amount of money is involved in the transaction. \"type\" is the method used to make the transaction, and it has 5 different categories. The categories will be encoded to numbers for the modeling process. \"isFlaggedFraud\" is a binary categorical variable, meaning whether the transaction has been flagged as fraud, but a flagged fraud transaction does not mean the transaction is a fraud and vice versa.\n",
    "\n",
    "The data is imbalanced as there are less fraud transactions contained in the dataset, which is great, but it is also bad for modeling. Therefore, the SMOTE method will be used to deal with these imbalanced data."
   ]
  },
  {
   "cell_type": "code",
   "execution_count": 1,
   "metadata": {},
   "outputs": [],
   "source": [
    "from random import sample\n",
    "import pandas as pd\n",
    "import numpy as np"
   ]
  },
  {
   "cell_type": "code",
   "execution_count": 2,
   "metadata": {},
   "outputs": [
    {
     "data": {
      "text/html": [
       "<div>\n",
       "<style scoped>\n",
       "    .dataframe tbody tr th:only-of-type {\n",
       "        vertical-align: middle;\n",
       "    }\n",
       "\n",
       "    .dataframe tbody tr th {\n",
       "        vertical-align: top;\n",
       "    }\n",
       "\n",
       "    .dataframe thead th {\n",
       "        text-align: right;\n",
       "    }\n",
       "</style>\n",
       "<table border=\"1\" class=\"dataframe\">\n",
       "  <thead>\n",
       "    <tr style=\"text-align: right;\">\n",
       "      <th></th>\n",
       "      <th>step</th>\n",
       "      <th>type</th>\n",
       "      <th>amount</th>\n",
       "      <th>nameOrig</th>\n",
       "      <th>oldbalanceOrg</th>\n",
       "      <th>newbalanceOrig</th>\n",
       "      <th>nameDest</th>\n",
       "      <th>oldbalanceDest</th>\n",
       "      <th>newbalanceDest</th>\n",
       "      <th>isFraud</th>\n",
       "      <th>isFlaggedFraud</th>\n",
       "    </tr>\n",
       "  </thead>\n",
       "  <tbody>\n",
       "    <tr>\n",
       "      <th>0</th>\n",
       "      <td>1</td>\n",
       "      <td>PAYMENT</td>\n",
       "      <td>9839.64</td>\n",
       "      <td>C1231006815</td>\n",
       "      <td>170136.0</td>\n",
       "      <td>160296.36</td>\n",
       "      <td>M1979787155</td>\n",
       "      <td>0.0</td>\n",
       "      <td>0.0</td>\n",
       "      <td>0</td>\n",
       "      <td>0</td>\n",
       "    </tr>\n",
       "    <tr>\n",
       "      <th>1</th>\n",
       "      <td>1</td>\n",
       "      <td>PAYMENT</td>\n",
       "      <td>1864.28</td>\n",
       "      <td>C1666544295</td>\n",
       "      <td>21249.0</td>\n",
       "      <td>19384.72</td>\n",
       "      <td>M2044282225</td>\n",
       "      <td>0.0</td>\n",
       "      <td>0.0</td>\n",
       "      <td>0</td>\n",
       "      <td>0</td>\n",
       "    </tr>\n",
       "    <tr>\n",
       "      <th>2</th>\n",
       "      <td>1</td>\n",
       "      <td>TRANSFER</td>\n",
       "      <td>181.00</td>\n",
       "      <td>C1305486145</td>\n",
       "      <td>181.0</td>\n",
       "      <td>0.00</td>\n",
       "      <td>C553264065</td>\n",
       "      <td>0.0</td>\n",
       "      <td>0.0</td>\n",
       "      <td>1</td>\n",
       "      <td>0</td>\n",
       "    </tr>\n",
       "    <tr>\n",
       "      <th>3</th>\n",
       "      <td>1</td>\n",
       "      <td>CASH_OUT</td>\n",
       "      <td>181.00</td>\n",
       "      <td>C840083671</td>\n",
       "      <td>181.0</td>\n",
       "      <td>0.00</td>\n",
       "      <td>C38997010</td>\n",
       "      <td>21182.0</td>\n",
       "      <td>0.0</td>\n",
       "      <td>1</td>\n",
       "      <td>0</td>\n",
       "    </tr>\n",
       "    <tr>\n",
       "      <th>4</th>\n",
       "      <td>1</td>\n",
       "      <td>PAYMENT</td>\n",
       "      <td>11668.14</td>\n",
       "      <td>C2048537720</td>\n",
       "      <td>41554.0</td>\n",
       "      <td>29885.86</td>\n",
       "      <td>M1230701703</td>\n",
       "      <td>0.0</td>\n",
       "      <td>0.0</td>\n",
       "      <td>0</td>\n",
       "      <td>0</td>\n",
       "    </tr>\n",
       "  </tbody>\n",
       "</table>\n",
       "</div>"
      ],
      "text/plain": [
       "   step      type    amount     nameOrig  oldbalanceOrg  newbalanceOrig  \\\n",
       "0     1   PAYMENT   9839.64  C1231006815       170136.0       160296.36   \n",
       "1     1   PAYMENT   1864.28  C1666544295        21249.0        19384.72   \n",
       "2     1  TRANSFER    181.00  C1305486145          181.0            0.00   \n",
       "3     1  CASH_OUT    181.00   C840083671          181.0            0.00   \n",
       "4     1   PAYMENT  11668.14  C2048537720        41554.0        29885.86   \n",
       "\n",
       "      nameDest  oldbalanceDest  newbalanceDest  isFraud  isFlaggedFraud  \n",
       "0  M1979787155             0.0             0.0        0               0  \n",
       "1  M2044282225             0.0             0.0        0               0  \n",
       "2   C553264065             0.0             0.0        1               0  \n",
       "3    C38997010         21182.0             0.0        1               0  \n",
       "4  M1230701703             0.0             0.0        0               0  "
      ]
     },
     "execution_count": 2,
     "metadata": {},
     "output_type": "execute_result"
    }
   ],
   "source": [
    "data = pd.read_csv(\"Online-payment-fraud-detection.csv\")\n",
    "data.head()"
   ]
  },
  {
   "cell_type": "markdown",
   "metadata": {},
   "source": [
    "The nameOrig is the unique id of the client who initiated the transaction, and it has 633307 different values.<br>\n",
    "The transaction's receiver, nameDest, has 2722362 distinct values.<br>\n",
    "These two variables are left out of the model since they don't assist predict the target value.<br>"
   ]
  },
  {
   "cell_type": "code",
   "execution_count": 3,
   "metadata": {},
   "outputs": [],
   "source": [
    "#drop variables\n",
    "data.drop(['nameOrig', 'nameDest'], axis=1, inplace=True)"
   ]
  },
  {
   "cell_type": "code",
   "execution_count": 4,
   "metadata": {},
   "outputs": [],
   "source": [
    "#encode transaction types to numeric numbers\n",
    "data[\"type\"].value_counts()\n",
    "encode_type = {\"type\":     {\"PAYMENT\": 1, \"TRANSFER\": 2, \"CASH_OUT\": 3, \"CASH_IN\":4, \"DEBIT\":5}}\n",
    "data = data.replace(encode_type)"
   ]
  },
  {
   "cell_type": "code",
   "execution_count": 5,
   "metadata": {},
   "outputs": [
    {
     "data": {
      "text/plain": [
       "0    6354407\n",
       "1       8213\n",
       "Name: isFraud, dtype: int64"
      ]
     },
     "execution_count": 5,
     "metadata": {},
     "output_type": "execute_result"
    }
   ],
   "source": [
    "#See how imbalanced it is \n",
    "data[\"isFraud\"].value_counts()"
   ]
  },
  {
   "cell_type": "code",
   "execution_count": 29,
   "metadata": {},
   "outputs": [],
   "source": [
    "#Imbalanced Data, use SMOTE\n",
    "#take 10000 sample\n",
    "data=data.sample(n=10000, random_state = 123)\n",
    "from imblearn.over_sampling import SMOTE\n",
    "X = data.drop('isFraud', axis=1).values\n",
    "y = data['isFraud'].values\n",
    "#pip install -U imbalanced-learn\n",
    "smote = SMOTE(k_neighbors=10, random_state=42)\n",
    "X, y = smote.fit_resample(X, y)"
   ]
  },
  {
   "cell_type": "code",
   "execution_count": 7,
   "metadata": {},
   "outputs": [],
   "source": [
    "#set train, test data\n",
    "from sklearn.model_selection import train_test_split\n",
    "np.random.seed(123)\n",
    "X_train, X_test, y_train, y_test = train_test_split(X, y, test_size=0.2)"
   ]
  },
  {
   "cell_type": "markdown",
   "metadata": {},
   "source": [
    "## 1 Logistic Regression\n",
    "\n",
    "Our target variable \"is_Fraud\" is a binary categorical variable, with 0 being not a fraud and 1 being a fraud, so we will first use the logistic regression with grid search and monte-carlo cross-validation method to see how the data is fitted"
   ]
  },
  {
   "cell_type": "code",
   "execution_count": 18,
   "metadata": {},
   "outputs": [
    {
     "name": "stdout",
     "output_type": "stream",
     "text": [
      "0.5\n"
     ]
    }
   ],
   "source": [
    "#Naive forecast\n",
    "print(y.sum()/len(y))"
   ]
  },
  {
   "cell_type": "code",
   "execution_count": 19,
   "metadata": {},
   "outputs": [
    {
     "name": "stdout",
     "output_type": "stream",
     "text": [
      "   rank_test_score  mean_test_score param_logisticregression__C\n",
      "0                8         0.851646                     0.00001\n",
      "1                7         0.859029                      0.0001\n",
      "2                6         0.872108                       0.001\n",
      "3                5         0.893551                        0.01\n",
      "4                4         0.943064                         0.1\n",
      "5                3         0.961511                           1\n",
      "6                2         0.973333                          10\n",
      "7                1         0.982066                         100\n",
      "best param: {'logisticregression__C': 100, 'logisticregression__max_iter': 10000}\n",
      "best model: Pipeline(steps=[('standardscaler', StandardScaler()),\n",
      "                ('logisticregression',\n",
      "                 LogisticRegression(C=100, max_iter=10000))])\n",
      "best test score: 0.9820664797757308\n",
      "0.982049132176235\n",
      "0.9819295154185022\n"
     ]
    }
   ],
   "source": [
    "#Logistic Regression\n",
    "from sklearn.linear_model import LogisticRegression\n",
    "from sklearn.svm import LinearSVC\n",
    "from sklearn.preprocessing import StandardScaler\n",
    "from sklearn.model_selection import cross_val_score, cross_validate\n",
    "from sklearn.model_selection import ShuffleSplit\n",
    "from sklearn.pipeline import make_pipeline\n",
    "from sklearn.model_selection import GridSearchCV\n",
    "#set up parameters\n",
    "nmc = 250\n",
    "testSize = 0.25\n",
    "#make pipeline and setup standard scaler to scale the data\n",
    "fullModel = make_pipeline(StandardScaler(),LogisticRegression())\n",
    "param_list = [1e-5, 1e-4, 1e-3, 1e-2, 1e-1, 1, 10, 100]\n",
    "param_grid={'logisticregression__C': param_list,'logisticregression__max_iter':[10000]}\n",
    "#shuffle and fit grid search\n",
    "shuffle = ShuffleSplit(test_size=testSize,n_splits=nmc)\n",
    "grid_search=GridSearchCV(fullModel, param_grid, cv=shuffle, return_train_score = True, n_jobs=-1)\n",
    "grid_search.fit(X,y)\n",
    "# move results into DataFrame\n",
    "results = pd.DataFrame(grid_search.cv_results_)\n",
    "print(results[['rank_test_score','mean_test_score','param_logisticregression__C']])\n",
    "\n",
    "# Print best params and model\n",
    "print(\"best param:\",grid_search.best_params_)\n",
    "print(\"best model:\",grid_search.best_estimator_)\n",
    "print(\"best test score:\",grid_search.best_score_)\n",
    "\n",
    "# get the best model with hyperparameters\n",
    "best_model = grid_search.best_estimator_\n",
    "\n",
    "# Rerun cross validation for this best model\n",
    "CVInfo = cross_validate(best_model, X, y, cv=shuffle,return_train_score=True,n_jobs=-1)\n",
    "\n",
    "print(np.mean(CVInfo['train_score']))\n",
    "print(np.mean(CVInfo['test_score']))"
   ]
  },
  {
   "cell_type": "markdown",
   "metadata": {},
   "source": [
    "The naïve forecast's accuracy is 0.5 since the data has been balanced using the SOMTE method. In terms of accuracy, our logistic regression produced excellent results."
   ]
  },
  {
   "cell_type": "markdown",
   "metadata": {},
   "source": [
    "## 2 Random Forest\n",
    "\n",
    "We utilized Random Forest to train the model and feature importances function to see how important each feature is. We were looping across 300 trees to find the number of trees with the best accuracy.\n",
    "\n",
    "Random forest is a machine learning technique developed by Leo Breiman and Adele Cutler that mixes the output of numerous decision trees to produce a single outcome. The  popularity of random forest model is due to its ease of use and flexibility, as it can handle both classification and regression problems."
   ]
  },
  {
   "cell_type": "code",
   "execution_count": 20,
   "metadata": {},
   "outputs": [
    {
     "data": {
      "image/png": "[encoded data removed]",
      "text/plain": [
       "<Figure size 432x288 with 1 Axes>"
      ]
     },
     "metadata": {
      "needs_background": "light"
     },
     "output_type": "display_data"
    }
   ],
   "source": [
    "from sklearn.ensemble import RandomForestClassifier\n",
    "import matplotlib.pyplot as plt\n",
    "max_estimators = 300\n",
    "scoreTrainList = []\n",
    "scoreTestList  = []\n",
    "scoreTestx = []\n",
    "\n",
    "for i in range(1,max_estimators,10):\n",
    "    forest = RandomForestClassifier(max_depth=10,n_estimators=i)\n",
    "    shuffle = ShuffleSplit(n_splits=25, test_size=.25)\n",
    "    CVInfo = cross_validate(forest, X, y, cv=shuffle,return_train_score=True,n_jobs=-1)\n",
    "    scoreTrainList.append(np.mean(CVInfo['train_score']))\n",
    "    scoreTestList.append(np.mean(CVInfo['test_score']))\n",
    "    scoreTestx.append(i)\n",
    "    \n",
    "plt.plot(scoreTestx,scoreTrainList,label=\"Train\")\n",
    "plt.plot(scoreTestx,scoreTestList,label=\"Test\")\n",
    "plt.xlabel(\"N trees\")\n",
    "plt.ylabel(\"Accuracy\")\n",
    "plt.legend()\n",
    "plt.grid()"
   ]
  },
  {
   "cell_type": "code",
   "execution_count": 23,
   "metadata": {},
   "outputs": [
    {
     "name": "stdout",
     "output_type": "stream",
     "text": [
      "251 0.999543452142571\n",
      "We will use  251 as the number of estimators.\n"
     ]
    }
   ],
   "source": [
    "max_y = max(scoreTestList)  # Find the maximum y value\n",
    "max_x = scoreTestx[scoreTestList.index(max_y)]  # Find the x value corresponding to the maximum y value\n",
    "print (max_x, max_y)\n",
    "print ('We will use ',max_x,'as the number of estimators.')"
   ]
  },
  {
   "cell_type": "code",
   "execution_count": 24,
   "metadata": {},
   "outputs": [
    {
     "name": "stdout",
     "output_type": "stream",
     "text": [
      "Accuracy on training set: 1.000\n",
      "Accuracy on test set: 0.999\n"
     ]
    }
   ],
   "source": [
    "forest = RandomForestClassifier(n_estimators=max_x,max_features=6,max_depth=10,random_state=1124)\n",
    "forest.fit(X_train, y_train)\n",
    "\n",
    "print(\"Accuracy on training set: {:.3f}\".format(forest.score(X_train, y_train)))\n",
    "print(\"Accuracy on test set: {:.3f}\".format(forest.score(X_test, y_test)))"
   ]
  },
  {
   "cell_type": "code",
   "execution_count": 45,
   "metadata": {},
   "outputs": [
    {
     "name": "stdout",
     "output_type": "stream",
     "text": [
      "          feature  importance       std\n",
      "7  isFlaggedFraud    0.000000  0.000000\n",
      "5  oldbalanceDest    0.015730  0.019390\n",
      "6  newbalanceDest    0.034001  0.039172\n",
      "1            type    0.058564  0.069232\n",
      "0            step    0.083750  0.074151\n",
      "4  newbalanceOrig    0.092284  0.048249\n",
      "3   oldbalanceOrg    0.270636  0.166803\n",
      "2          amount    0.445037  0.165618\n"
     ]
    },
    {
     "data": {
      "image/png": "[encoded data removed]",
      "text/plain": [
       "<Figure size 432x288 with 1 Axes>"
      ]
     },
     "metadata": {
      "needs_background": "light"
     },
     "output_type": "display_data"
    }
   ],
   "source": [
    "importances = forest.feature_importances_\n",
    "std = np.std([tree.feature_importances_ for tree in forest.estimators_], axis=0)\n",
    "\n",
    "df = pd.DataFrame({'feature': X_train.columns, 'importance': importances, 'std': std})\n",
    "df = df.sort_values('importance')\n",
    "print(df)\n",
    "\n",
    "ax = df.plot(kind='barh', xerr='std', x='feature', legend=False)\n",
    "ax.set_ylabel('')\n",
    "\n",
    "plt.tight_layout()\n",
    "plt.show()"
   ]
  },
  {
   "cell_type": "markdown",
   "metadata": {},
   "source": [
    "We are able to see that according to random foreast, amount and old balance are the good indicators of a fraud activity.\n"
   ]
  },
  {
   "cell_type": "markdown",
   "metadata": {},
   "source": [
    "## 3 Ensemble\n",
    "We utilized Ensemble models. <br>\n",
    "\n",
    "Ensemble models are a machine learning technique for predictions that combines various different models. 'Base estimators' are the names given to those models. It's a way to get over the technical difficulties in High variance: The model is extremely sensitive to the learnt features' inputs.<br>\n",
    "you'll find Bootstrap and Bagging below.<br>"
   ]
  },
  {
   "cell_type": "code",
   "execution_count": 31,
   "metadata": {},
   "outputs": [],
   "source": [
    "# Restate Initial data sample #Imbalanced Data, use SMOTE\n",
    "#take 10000 sample\n",
    "data=data.sample(n=10000, random_state = 123)\n",
    "from imblearn.over_sampling import SMOTE\n",
    "X = data.drop('isFraud', axis=1)\n",
    "y = data['isFraud']\n",
    "#pip install -U imbalanced-learn\n",
    "smote = SMOTE(k_neighbors=10, random_state=42)\n",
    "X, y = smote.fit_resample(X, y)"
   ]
  },
  {
   "cell_type": "markdown",
   "metadata": {},
   "source": [
    "Build a model combination with voting:"
   ]
  },
  {
   "cell_type": "code",
   "execution_count": 32,
   "metadata": {},
   "outputs": [
    {
     "data": {
      "text/plain": [
       "VotingClassifier(estimators=[('lr',\n",
       "                              LogisticRegression(max_iter=10000, penalty='none',\n",
       "                                                 random_state=42)),\n",
       "                             ('dtc',\n",
       "                              DecisionTreeClassifier(max_depth=10,\n",
       "                                                     random_state=42)),\n",
       "                             ('svc', SVC(random_state=12))])"
      ]
     },
     "execution_count": 32,
     "metadata": {},
     "output_type": "execute_result"
    }
   ],
   "source": [
    "from sklearn.tree import DecisionTreeClassifier\n",
    "from sklearn.ensemble import VotingClassifier\n",
    "from sklearn.linear_model import LogisticRegression\n",
    "from sklearn.svm import SVC\n",
    "\n",
    "log_clf = LogisticRegression(solver=\"lbfgs\",penalty='none',random_state=42,max_iter=10000)\n",
    "dtc_clf = DecisionTreeClassifier(max_depth=10,random_state=42)\n",
    "svm_clf =SVC(random_state=12,kernel=\"rbf\")\n",
    "\n",
    "voting_clf = VotingClassifier(\n",
    "    estimators=[('lr', log_clf), ('dtc', dtc_clf), ('svc', svm_clf)],\n",
    "    voting='hard')\n",
    "\n",
    "voting_clf.fit(X_train, y_train)"
   ]
  },
  {
   "cell_type": "code",
   "execution_count": 33,
   "metadata": {},
   "outputs": [
    {
     "name": "stdout",
     "output_type": "stream",
     "text": [
      "LogisticRegression 0.990738423028786\n",
      "DecisionTreeClassifier 0.9984981226533166\n",
      "SVC 0.9504380475594493\n",
      "VotingClassifier 0.997747183979975\n"
     ]
    }
   ],
   "source": [
    "from sklearn.metrics import accuracy_score\n",
    "\n",
    "for clf in (log_clf, dtc_clf, svm_clf, voting_clf):\n",
    "    clf.fit(X_train, y_train)\n",
    "    y_pred = clf.predict(X_test)\n",
    "    print(clf.__class__.__name__, accuracy_score(y_test, y_pred))"
   ]
  },
  {
   "cell_type": "markdown",
   "metadata": {},
   "source": [
    "Bootstrap <br>\n",
    "Bootstrapping is a resampling approach that includes pulling samples from our source data periodically with replacement, usually to estimate a population parameter. By \"with replacement,\" we imply that the same data point may appear numerous times in our resampled dataset."
   ]
  },
  {
   "cell_type": "code",
   "execution_count": 34,
   "metadata": {},
   "outputs": [
    {
     "name": "stdout",
     "output_type": "stream",
     "text": [
      "-0.002723107697794325\n",
      "0.00981528967326768\n",
      "0.01\n"
     ]
    }
   ],
   "source": [
    "# Sample size\n",
    "nsamp = 10000\n",
    "# Number of bootstraps\n",
    "nbootstraps = 1000\n",
    "# Generate initial data sample\n",
    "x = np.random.normal(size=nsamp,loc=0,scale=1)\n",
    "# Space to store bootstrap means\n",
    "mb = np.zeros(nbootstraps)\n",
    "# Main bootstrap loop\n",
    "for i in range(nbootstraps):\n",
    "    # Draw a bootstrap sample from data with replacement\n",
    "    xb = np.random.choice(x,size=nsamp,replace=True)\n",
    "    mb[i]=np.mean(xb)\n",
    "print(np.mean(mb))\n",
    "print(np.std(mb))\n",
    "# Theoretical standard deviation\n",
    "print(1./np.sqrt(nsamp))"
   ]
  },
  {
   "cell_type": "markdown",
   "metadata": {},
   "source": [
    "Bagging Predictors<br>\n",
    "\n",
    "Bagging is a bootstrapping-based technique for ensemble learning. To summarize, given a training set, we generate numerous alternative training sets (referred to as bootstrap samples) by sampling with replacements from the original dataset. Then we develop a model for each bootstrap sample. As a consequence, an ensemble of models is formed, with each model voting with equal weight. The purpose of this approach is often to lower the variance of the model of interest (decision trees)."
   ]
  },
  {
   "cell_type": "code",
   "execution_count": 35,
   "metadata": {},
   "outputs": [
    {
     "name": "stdout",
     "output_type": "stream",
     "text": [
      "0.9993991989319092\n",
      "0.9987985582699239\n"
     ]
    }
   ],
   "source": [
    "X_train, X_test, y_train, y_test = train_test_split(X, y, stratify=y,\n",
    "                                                    random_state=42,test_size=0.25)\n",
    "\n",
    "from sklearn.ensemble import BaggingClassifier\n",
    "dtc_clf = DecisionTreeClassifier(max_depth=10)\n",
    "bag_clf = BaggingClassifier(dtc_clf,n_estimators=100,bootstrap=True,max_samples=1.,random_state=40)\n",
    "bag_clf.fit(X_train,y_train)\n",
    "y_hat_train = bag_clf.predict(X_train)\n",
    "y_hat = bag_clf.predict(X_test)\n",
    "print(accuracy_score(y_hat_train,y_train))\n",
    "print(accuracy_score(y_hat,y_test))"
   ]
  },
  {
   "cell_type": "markdown",
   "metadata": {},
   "source": [
    "Out of Bag Estimate<br>\n",
    "Out of Bag Estimate refers to cases that were not utilized during training. It is useful as a test estimate."
   ]
  },
  {
   "cell_type": "code",
   "execution_count": 36,
   "metadata": {},
   "outputs": [
    {
     "data": {
      "text/plain": [
       "0.9879839786381842"
      ]
     },
     "execution_count": 36,
     "metadata": {},
     "output_type": "execute_result"
    }
   ],
   "source": [
    "bag_clf = BaggingClassifier(dtc_clf, n_estimators=100,max_samples=150,\n",
    "    bootstrap=True, oob_score=True, random_state=40)\n",
    "bag_clf.fit(X_train, y_train)\n",
    "bag_clf.oob_score_"
   ]
  },
  {
   "cell_type": "markdown",
   "metadata": {},
   "source": [
    "Single Decision Tree\n",
    "\n",
    "All of the tree-based models presented above are based on the decision tree model. A decision tree begins with a simple question, such as \"Is it a fraud\" You may then ask a series of questions to get a response, such as \"What is the amount of the transaction?\" or \"What is the balance after the transaction?\" These questions comprise the tree's decision nodes, which serve as a mechanism for dividing the data. Each inquiry assists a person in reaching a final choice, which is symbolized by the leaf node."
   ]
  },
  {
   "cell_type": "code",
   "execution_count": 49,
   "metadata": {},
   "outputs": [
    {
     "data": {
      "image/png": "[encoded data removed]",
      "text/plain": [
       "<Figure size 432x288 with 1 Axes>"
      ]
     },
     "metadata": {
      "needs_background": "light"
     },
     "output_type": "display_data"
    }
   ],
   "source": [
    "from sklearn.tree import DecisionTreeRegressor\n",
    "from sklearn.tree import plot_tree\n",
    "\n",
    "X, y = smote.fit_resample(X, y)\n",
    "X_train, X_test, y_train, y_test = train_test_split(X, y, test_size = 0.3)\n",
    "dtr = DecisionTreeRegressor()\n",
    "dtr.fit(X_train, y_train)\n",
    "\n",
    "clf = DecisionTreeClassifier(max_depth = 2, \n",
    "                             random_state = 0)\n",
    "\n",
    "clf.fit(X_train, y_train)\n",
    "\n",
    "plot_tree(clf);"
   ]
  },
  {
   "cell_type": "markdown",
   "metadata": {},
   "source": [
    "## 4 KNN Classifier\n",
    "The KNN model is a supervised machine learning technique that implies comparable items are nearby. In other words, comparable objects are close together."
   ]
  },
  {
   "cell_type": "code",
   "execution_count": 50,
   "metadata": {},
   "outputs": [],
   "source": [
    "from sklearn.neighbors import KNeighborsClassifier\n",
    "from sklearn.metrics import accuracy_score\n",
    "from sklearn.model_selection import ShuffleSplit\n",
    "def KNN(neighbor,X,y):\n",
    "    neigh = KNeighborsClassifier(n_neighbors= neighbor)\n",
    "    testSize = 0.5\n",
    "    shuffle = ShuffleSplit(n_splits=25,test_size = 0.25)\n",
    "    CVInfo = cross_validate(neigh,X,y,cv=shuffle,return_train_score = True)\n",
    "    train_acc = np.mean(CVInfo['train_score'])##train\n",
    "    test_acc = np.mean(CVInfo['test_score'])##test\n",
    "    return train_acc,test_acc"
   ]
  },
  {
   "cell_type": "code",
   "execution_count": 53,
   "metadata": {},
   "outputs": [
    {
     "name": "stdout",
     "output_type": "stream",
     "text": [
      "the best neighbor is  10\n"
     ]
    }
   ],
   "source": [
    "train_ac_list = []\n",
    "test_ac_list = []\n",
    "for i in range(10,41):\n",
    "    train_acc,test_acc = KNN(i,X,y)\n",
    "    train_ac_list.append(train_acc)\n",
    "    test_ac_list.append(test_acc)\n",
    "range_list = np.arange(10,41,5)\n",
    "#plt.plot(range_list,train_ac_list)\n",
    "#plt.plot(range_list,test_ac_list)\n",
    "nbest = np.argmax(test_ac_list)\n",
    "best_neighbor = range_list[nbest]\n",
    "print('the best neighbor is ',best_neighbor)"
   ]
  },
  {
   "cell_type": "markdown",
   "metadata": {},
   "source": [
    "Accuracy"
   ]
  },
  {
   "cell_type": "code",
   "execution_count": 54,
   "metadata": {},
   "outputs": [
    {
     "name": "stdout",
     "output_type": "stream",
     "text": [
      "the train accuracy is  0.9943494742865318\n",
      "the test accuracy is  0.9929918237944269\n"
     ]
    }
   ],
   "source": [
    "kneighbor = KNeighborsClassifier(n_neighbors=best_neighbor,n_jobs = -1)\n",
    "kneighbor.fit(X_train,y_train)\n",
    "print('the train accuracy is ', kneighbor.score(X_train,y_train))\n",
    "print('the test accuracy is ', kneighbor.score(X_test,y_test))"
   ]
  },
  {
   "cell_type": "markdown",
   "metadata": {},
   "source": [
    "## Summary \n",
    "In terms of accuracy, all of the models we tested performed admirably. All of these models' computational times are adequate, excluding the time spent on grid search for hyper-parameters. In terms of interpretability, the single decision tree is the best model.\n",
    "\n",
    "The accuracy is high because the data is largely imbalanced, with less number of fraud transactions; therefore, the fraud transactions are easier to predict, and due to the high accuracy, machine learning models are frequently been used in order to detect the fraudulence in the bank.\n",
    "\n",
    "In the future study, we would like to add more explanatory variables to the model and see if the accuracy would vary, and we also want to use different target variables to predict fraudulence, as the current target variable is heavily imbalanced, which would bias the prediction results."
   ]
  }
 ],
 "metadata": {
  "kernelspec": {
   "display_name": "Python 3",
   "language": "python",
   "name": "python3"
  },
  "language_info": {
   "codemirror_mode": {
    "name": "ipython",
    "version": 3
   },
   "file_extension": ".py",
   "mimetype": "text/x-python",
   "name": "python",
   "nbconvert_exporter": "python",
   "pygments_lexer": "ipython3",
   "version": "3.8.2"
  }
 },
 "nbformat": 4,
 "nbformat_minor": 4
}
